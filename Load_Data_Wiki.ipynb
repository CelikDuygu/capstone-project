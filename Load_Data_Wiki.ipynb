{
 "cells": [
  {
   "cell_type": "markdown",
   "metadata": {},
   "source": [
    "### 1. Import the necessary packages"
   ]
  },
  {
   "cell_type": "code",
   "execution_count": 57,
   "metadata": {},
   "outputs": [],
   "source": [
    "from bs4 import BeautifulSoup\n",
    "import requests\n",
    "from itertools import zip_longest\n",
    "import pandas as pd\n",
    "import folium\n",
    "from sklearn.cluster import KMeans\n",
    "import json\n",
    "from pandas.io.json import json_normalize # tranform JSON file into a pandas dataframe\n",
    "import numpy as np\n",
    "# Matplotlib and associated plotting modules\n",
    "import matplotlib.cm as cm\n",
    "import matplotlib.colors as colors"
   ]
  },
  {
   "cell_type": "markdown",
   "metadata": {},
   "source": [
    "### 2. Scrap the Wikipedia page to load the table"
   ]
  },
  {
   "cell_type": "code",
   "execution_count": 4,
   "metadata": {},
   "outputs": [
    {
     "data": {
      "text/html": [
       "<div>\n",
       "<style scoped>\n",
       "    .dataframe tbody tr th:only-of-type {\n",
       "        vertical-align: middle;\n",
       "    }\n",
       "\n",
       "    .dataframe tbody tr th {\n",
       "        vertical-align: top;\n",
       "    }\n",
       "\n",
       "    .dataframe thead th {\n",
       "        text-align: right;\n",
       "    }\n",
       "</style>\n",
       "<table border=\"1\" class=\"dataframe\">\n",
       "  <thead>\n",
       "    <tr style=\"text-align: right;\">\n",
       "      <th></th>\n",
       "      <th>Postal Code</th>\n",
       "      <th>Borough</th>\n",
       "      <th>Neighborhood</th>\n",
       "    </tr>\n",
       "  </thead>\n",
       "  <tbody>\n",
       "    <tr>\n",
       "      <th>0</th>\n",
       "      <td>M1A</td>\n",
       "      <td>Not assigned</td>\n",
       "      <td></td>\n",
       "    </tr>\n",
       "    <tr>\n",
       "      <th>1</th>\n",
       "      <td>M2A</td>\n",
       "      <td>Not assigned</td>\n",
       "      <td></td>\n",
       "    </tr>\n",
       "    <tr>\n",
       "      <th>2</th>\n",
       "      <td>M3A</td>\n",
       "      <td>North York</td>\n",
       "      <td>Parkwoods</td>\n",
       "    </tr>\n",
       "    <tr>\n",
       "      <th>3</th>\n",
       "      <td>M4A</td>\n",
       "      <td>North York</td>\n",
       "      <td>Victoria Village</td>\n",
       "    </tr>\n",
       "    <tr>\n",
       "      <th>4</th>\n",
       "      <td>M5A</td>\n",
       "      <td>Downtown Toronto</td>\n",
       "      <td>Regent Park / Harbourfront</td>\n",
       "    </tr>\n",
       "  </tbody>\n",
       "</table>\n",
       "</div>"
      ],
      "text/plain": [
       "  Postal Code           Borough                Neighborhood\n",
       "0         M1A      Not assigned                            \n",
       "1         M2A      Not assigned                            \n",
       "2         M3A        North York                   Parkwoods\n",
       "3         M4A        North York            Victoria Village\n",
       "4         M5A  Downtown Toronto  Regent Park / Harbourfront"
      ]
     },
     "execution_count": 4,
     "metadata": {},
     "output_type": "execute_result"
    }
   ],
   "source": [
    "# Make a GET request to fetch the raw HTML content\n",
    "html_content = requests.get(\"https://en.wikipedia.org/wiki/List_of_postal_codes_of_Canada:_M\").text\n",
    "\n",
    "# Parse the html content\n",
    "soup = BeautifulSoup(html_content,features=\"html.parser\")\n",
    "\n",
    "#print(soup.prettify())\n",
    "#print(\"Title: \", soup.title.text)\n",
    "\n",
    "postal_table=soup.find(\"table\",attrs={\"class\": \"wikitable\"})\n",
    "postal_table_data=postal_table.tbody.find_all(\"tr\")\n",
    "\n",
    "# Get the headings in the table\n",
    "headings=[]\n",
    "\n",
    "for th in postal_table_data[0].find_all(\"th\"):\n",
    "        headings.append(th.text.replace('\\n','').strip())\n",
    "\n",
    "# Get the rest of the table\n",
    "data = []\n",
    "data.append(headings)\n",
    "for tr in postal_table.tbody.find_all(\"tr\"):\n",
    "        table_data=[]\n",
    "        # Get the data\n",
    "        for td in tr.find_all(\"td\"):\n",
    "                t_row=td.text.replace('\\n','').strip()\n",
    "                table_data.append(t_row)\n",
    "\n",
    "        data.append(table_data)\n",
    "\n",
    "# Convert the into DataFrame\n",
    "df=pd.DataFrame(data)\n",
    "new_header = (df.iloc[0]).to_list() \n",
    "df.columns = new_header\n",
    "df=df[2:]\n",
    "df.reset_index(drop=True,inplace=True)\n",
    "df.rename(columns={\"Postal code\": \"Postal Code\"},inplace=True)\n",
    "df.head()"
   ]
  },
  {
   "cell_type": "markdown",
   "metadata": {},
   "source": [
    "### 3. Clear the dataset"
   ]
  },
  {
   "cell_type": "code",
   "execution_count": 5,
   "metadata": {},
   "outputs": [
    {
     "data": {
      "text/html": [
       "<div>\n",
       "<style scoped>\n",
       "    .dataframe tbody tr th:only-of-type {\n",
       "        vertical-align: middle;\n",
       "    }\n",
       "\n",
       "    .dataframe tbody tr th {\n",
       "        vertical-align: top;\n",
       "    }\n",
       "\n",
       "    .dataframe thead th {\n",
       "        text-align: right;\n",
       "    }\n",
       "</style>\n",
       "<table border=\"1\" class=\"dataframe\">\n",
       "  <thead>\n",
       "    <tr style=\"text-align: right;\">\n",
       "      <th></th>\n",
       "      <th>Postal Code</th>\n",
       "      <th>Borough</th>\n",
       "      <th>Neighborhood</th>\n",
       "    </tr>\n",
       "  </thead>\n",
       "  <tbody>\n",
       "    <tr>\n",
       "      <th>0</th>\n",
       "      <td>M3A</td>\n",
       "      <td>North York</td>\n",
       "      <td>Parkwoods</td>\n",
       "    </tr>\n",
       "    <tr>\n",
       "      <th>1</th>\n",
       "      <td>M4A</td>\n",
       "      <td>North York</td>\n",
       "      <td>Victoria Village</td>\n",
       "    </tr>\n",
       "    <tr>\n",
       "      <th>2</th>\n",
       "      <td>M5A</td>\n",
       "      <td>Downtown Toronto</td>\n",
       "      <td>Regent Park / Harbourfront</td>\n",
       "    </tr>\n",
       "    <tr>\n",
       "      <th>3</th>\n",
       "      <td>M6A</td>\n",
       "      <td>North York</td>\n",
       "      <td>Lawrence Manor / Lawrence Heights</td>\n",
       "    </tr>\n",
       "    <tr>\n",
       "      <th>4</th>\n",
       "      <td>M7A</td>\n",
       "      <td>Downtown Toronto</td>\n",
       "      <td>Queen's Park / Ontario Provincial Government</td>\n",
       "    </tr>\n",
       "  </tbody>\n",
       "</table>\n",
       "</div>"
      ],
      "text/plain": [
       "  Postal Code           Borough                                  Neighborhood\n",
       "0         M3A        North York                                     Parkwoods\n",
       "1         M4A        North York                              Victoria Village\n",
       "2         M5A  Downtown Toronto                    Regent Park / Harbourfront\n",
       "3         M6A        North York             Lawrence Manor / Lawrence Heights\n",
       "4         M7A  Downtown Toronto  Queen's Park / Ontario Provincial Government"
      ]
     },
     "execution_count": 5,
     "metadata": {},
     "output_type": "execute_result"
    }
   ],
   "source": [
    "index=list(range(0,len(df)))\n",
    "\n",
    "ind_list=[]\n",
    "# Ignore rows with \"Not assigned\" values\n",
    "for index,row in df.iterrows():\n",
    "    if row[1]=='Not assigned':\n",
    "        ind_list.append(index)\n",
    "\n",
    "df.drop(ind_list,inplace=True)\n",
    "df.reset_index(drop=True,inplace=True)\n",
    "df.head()"
   ]
  },
  {
   "cell_type": "markdown",
   "metadata": {},
   "source": [
    "### 4. Shape of the dataset"
   ]
  },
  {
   "cell_type": "code",
   "execution_count": 6,
   "metadata": {},
   "outputs": [
    {
     "data": {
      "text/plain": [
       "(103, 3)"
      ]
     },
     "execution_count": 6,
     "metadata": {},
     "output_type": "execute_result"
    }
   ],
   "source": [
    "df.shape"
   ]
  },
  {
   "cell_type": "markdown",
   "metadata": {},
   "source": [
    "### 5. Add the coordination column to data"
   ]
  },
  {
   "cell_type": "code",
   "execution_count": 7,
   "metadata": {},
   "outputs": [
    {
     "data": {
      "text/html": [
       "<div>\n",
       "<style scoped>\n",
       "    .dataframe tbody tr th:only-of-type {\n",
       "        vertical-align: middle;\n",
       "    }\n",
       "\n",
       "    .dataframe tbody tr th {\n",
       "        vertical-align: top;\n",
       "    }\n",
       "\n",
       "    .dataframe thead th {\n",
       "        text-align: right;\n",
       "    }\n",
       "</style>\n",
       "<table border=\"1\" class=\"dataframe\">\n",
       "  <thead>\n",
       "    <tr style=\"text-align: right;\">\n",
       "      <th></th>\n",
       "      <th>Postal Code</th>\n",
       "      <th>Latitude</th>\n",
       "      <th>Longitude</th>\n",
       "    </tr>\n",
       "  </thead>\n",
       "  <tbody>\n",
       "    <tr>\n",
       "      <th>0</th>\n",
       "      <td>M1B</td>\n",
       "      <td>43.806686</td>\n",
       "      <td>-79.194353</td>\n",
       "    </tr>\n",
       "    <tr>\n",
       "      <th>1</th>\n",
       "      <td>M1C</td>\n",
       "      <td>43.784535</td>\n",
       "      <td>-79.160497</td>\n",
       "    </tr>\n",
       "    <tr>\n",
       "      <th>2</th>\n",
       "      <td>M1E</td>\n",
       "      <td>43.763573</td>\n",
       "      <td>-79.188711</td>\n",
       "    </tr>\n",
       "    <tr>\n",
       "      <th>3</th>\n",
       "      <td>M1G</td>\n",
       "      <td>43.770992</td>\n",
       "      <td>-79.216917</td>\n",
       "    </tr>\n",
       "    <tr>\n",
       "      <th>4</th>\n",
       "      <td>M1H</td>\n",
       "      <td>43.773136</td>\n",
       "      <td>-79.239476</td>\n",
       "    </tr>\n",
       "  </tbody>\n",
       "</table>\n",
       "</div>"
      ],
      "text/plain": [
       "  Postal Code   Latitude  Longitude\n",
       "0         M1B  43.806686 -79.194353\n",
       "1         M1C  43.784535 -79.160497\n",
       "2         M1E  43.763573 -79.188711\n",
       "3         M1G  43.770992 -79.216917\n",
       "4         M1H  43.773136 -79.239476"
      ]
     },
     "execution_count": 7,
     "metadata": {},
     "output_type": "execute_result"
    }
   ],
   "source": [
    "df_coor=pd.read_csv(\"Geospatial_Coordinates.csv\")\n",
    "df_coor.head()"
   ]
  },
  {
   "cell_type": "markdown",
   "metadata": {},
   "source": [
    "### 6. Merge two dataset"
   ]
  },
  {
   "cell_type": "code",
   "execution_count": 8,
   "metadata": {},
   "outputs": [
    {
     "data": {
      "text/html": [
       "<div>\n",
       "<style scoped>\n",
       "    .dataframe tbody tr th:only-of-type {\n",
       "        vertical-align: middle;\n",
       "    }\n",
       "\n",
       "    .dataframe tbody tr th {\n",
       "        vertical-align: top;\n",
       "    }\n",
       "\n",
       "    .dataframe thead th {\n",
       "        text-align: right;\n",
       "    }\n",
       "</style>\n",
       "<table border=\"1\" class=\"dataframe\">\n",
       "  <thead>\n",
       "    <tr style=\"text-align: right;\">\n",
       "      <th></th>\n",
       "      <th>Postal Code</th>\n",
       "      <th>Latitude</th>\n",
       "      <th>Longitude</th>\n",
       "      <th>Borough</th>\n",
       "      <th>Neighborhood</th>\n",
       "    </tr>\n",
       "  </thead>\n",
       "  <tbody>\n",
       "    <tr>\n",
       "      <th>0</th>\n",
       "      <td>M1B</td>\n",
       "      <td>43.806686</td>\n",
       "      <td>-79.194353</td>\n",
       "      <td>Scarborough</td>\n",
       "      <td>Malvern / Rouge</td>\n",
       "    </tr>\n",
       "    <tr>\n",
       "      <th>1</th>\n",
       "      <td>M1C</td>\n",
       "      <td>43.784535</td>\n",
       "      <td>-79.160497</td>\n",
       "      <td>Scarborough</td>\n",
       "      <td>Rouge Hill / Port Union / Highland Creek</td>\n",
       "    </tr>\n",
       "    <tr>\n",
       "      <th>2</th>\n",
       "      <td>M1E</td>\n",
       "      <td>43.763573</td>\n",
       "      <td>-79.188711</td>\n",
       "      <td>Scarborough</td>\n",
       "      <td>Guildwood / Morningside / West Hill</td>\n",
       "    </tr>\n",
       "    <tr>\n",
       "      <th>3</th>\n",
       "      <td>M1G</td>\n",
       "      <td>43.770992</td>\n",
       "      <td>-79.216917</td>\n",
       "      <td>Scarborough</td>\n",
       "      <td>Woburn</td>\n",
       "    </tr>\n",
       "    <tr>\n",
       "      <th>4</th>\n",
       "      <td>M1H</td>\n",
       "      <td>43.773136</td>\n",
       "      <td>-79.239476</td>\n",
       "      <td>Scarborough</td>\n",
       "      <td>Cedarbrae</td>\n",
       "    </tr>\n",
       "    <tr>\n",
       "      <th>...</th>\n",
       "      <td>...</td>\n",
       "      <td>...</td>\n",
       "      <td>...</td>\n",
       "      <td>...</td>\n",
       "      <td>...</td>\n",
       "    </tr>\n",
       "    <tr>\n",
       "      <th>98</th>\n",
       "      <td>M9N</td>\n",
       "      <td>43.706876</td>\n",
       "      <td>-79.518188</td>\n",
       "      <td>York</td>\n",
       "      <td>Weston</td>\n",
       "    </tr>\n",
       "    <tr>\n",
       "      <th>99</th>\n",
       "      <td>M9P</td>\n",
       "      <td>43.696319</td>\n",
       "      <td>-79.532242</td>\n",
       "      <td>Etobicoke</td>\n",
       "      <td>Westmount</td>\n",
       "    </tr>\n",
       "    <tr>\n",
       "      <th>100</th>\n",
       "      <td>M9R</td>\n",
       "      <td>43.688905</td>\n",
       "      <td>-79.554724</td>\n",
       "      <td>Etobicoke</td>\n",
       "      <td>Kingsview Village / St. Phillips / Martin Grov...</td>\n",
       "    </tr>\n",
       "    <tr>\n",
       "      <th>101</th>\n",
       "      <td>M9V</td>\n",
       "      <td>43.739416</td>\n",
       "      <td>-79.588437</td>\n",
       "      <td>Etobicoke</td>\n",
       "      <td>South Steeles / Silverstone / Humbergate / Jam...</td>\n",
       "    </tr>\n",
       "    <tr>\n",
       "      <th>102</th>\n",
       "      <td>M9W</td>\n",
       "      <td>43.706748</td>\n",
       "      <td>-79.594054</td>\n",
       "      <td>Etobicoke</td>\n",
       "      <td>Northwest</td>\n",
       "    </tr>\n",
       "  </tbody>\n",
       "</table>\n",
       "<p>103 rows × 5 columns</p>\n",
       "</div>"
      ],
      "text/plain": [
       "    Postal Code   Latitude  Longitude      Borough  \\\n",
       "0           M1B  43.806686 -79.194353  Scarborough   \n",
       "1           M1C  43.784535 -79.160497  Scarborough   \n",
       "2           M1E  43.763573 -79.188711  Scarborough   \n",
       "3           M1G  43.770992 -79.216917  Scarborough   \n",
       "4           M1H  43.773136 -79.239476  Scarborough   \n",
       "..          ...        ...        ...          ...   \n",
       "98          M9N  43.706876 -79.518188         York   \n",
       "99          M9P  43.696319 -79.532242    Etobicoke   \n",
       "100         M9R  43.688905 -79.554724    Etobicoke   \n",
       "101         M9V  43.739416 -79.588437    Etobicoke   \n",
       "102         M9W  43.706748 -79.594054    Etobicoke   \n",
       "\n",
       "                                          Neighborhood  \n",
       "0                                      Malvern / Rouge  \n",
       "1             Rouge Hill / Port Union / Highland Creek  \n",
       "2                  Guildwood / Morningside / West Hill  \n",
       "3                                               Woburn  \n",
       "4                                            Cedarbrae  \n",
       "..                                                 ...  \n",
       "98                                              Weston  \n",
       "99                                           Westmount  \n",
       "100  Kingsview Village / St. Phillips / Martin Grov...  \n",
       "101  South Steeles / Silverstone / Humbergate / Jam...  \n",
       "102                                          Northwest  \n",
       "\n",
       "[103 rows x 5 columns]"
      ]
     },
     "execution_count": 8,
     "metadata": {},
     "output_type": "execute_result"
    }
   ],
   "source": [
    "df_new= pd.merge(df_coor, df, on='Postal Code')\n",
    "df_new"
   ]
  },
  {
   "cell_type": "markdown",
   "metadata": {},
   "source": [
    "### 6. Neigborhood Segmentation Part"
   ]
  },
  {
   "cell_type": "markdown",
   "metadata": {},
   "source": [
    "I have chosen 'North York' borough for clustering. Therefore, I've subset the dataset as it only contains rows of North York."
   ]
  },
  {
   "cell_type": "code",
   "execution_count": 16,
   "metadata": {},
   "outputs": [
    {
     "data": {
      "text/html": [
       "<div>\n",
       "<style scoped>\n",
       "    .dataframe tbody tr th:only-of-type {\n",
       "        vertical-align: middle;\n",
       "    }\n",
       "\n",
       "    .dataframe tbody tr th {\n",
       "        vertical-align: top;\n",
       "    }\n",
       "\n",
       "    .dataframe thead th {\n",
       "        text-align: right;\n",
       "    }\n",
       "</style>\n",
       "<table border=\"1\" class=\"dataframe\">\n",
       "  <thead>\n",
       "    <tr style=\"text-align: right;\">\n",
       "      <th></th>\n",
       "      <th>Postal Code</th>\n",
       "      <th>Latitude</th>\n",
       "      <th>Longitude</th>\n",
       "      <th>Borough</th>\n",
       "      <th>Neighborhood</th>\n",
       "    </tr>\n",
       "  </thead>\n",
       "  <tbody>\n",
       "    <tr>\n",
       "      <th>17</th>\n",
       "      <td>M2H</td>\n",
       "      <td>43.803762</td>\n",
       "      <td>-79.363452</td>\n",
       "      <td>North York</td>\n",
       "      <td>Hillcrest Village</td>\n",
       "    </tr>\n",
       "    <tr>\n",
       "      <th>18</th>\n",
       "      <td>M2J</td>\n",
       "      <td>43.778517</td>\n",
       "      <td>-79.346556</td>\n",
       "      <td>North York</td>\n",
       "      <td>Fairview / Henry Farm / Oriole</td>\n",
       "    </tr>\n",
       "    <tr>\n",
       "      <th>19</th>\n",
       "      <td>M2K</td>\n",
       "      <td>43.786947</td>\n",
       "      <td>-79.385975</td>\n",
       "      <td>North York</td>\n",
       "      <td>Bayview Village</td>\n",
       "    </tr>\n",
       "    <tr>\n",
       "      <th>20</th>\n",
       "      <td>M2L</td>\n",
       "      <td>43.757490</td>\n",
       "      <td>-79.374714</td>\n",
       "      <td>North York</td>\n",
       "      <td>York Mills / Silver Hills</td>\n",
       "    </tr>\n",
       "    <tr>\n",
       "      <th>21</th>\n",
       "      <td>M2M</td>\n",
       "      <td>43.789053</td>\n",
       "      <td>-79.408493</td>\n",
       "      <td>North York</td>\n",
       "      <td>Willowdale / Newtonbrook</td>\n",
       "    </tr>\n",
       "  </tbody>\n",
       "</table>\n",
       "</div>"
      ],
      "text/plain": [
       "   Postal Code   Latitude  Longitude     Borough  \\\n",
       "17         M2H  43.803762 -79.363452  North York   \n",
       "18         M2J  43.778517 -79.346556  North York   \n",
       "19         M2K  43.786947 -79.385975  North York   \n",
       "20         M2L  43.757490 -79.374714  North York   \n",
       "21         M2M  43.789053 -79.408493  North York   \n",
       "\n",
       "                      Neighborhood  \n",
       "17               Hillcrest Village  \n",
       "18  Fairview / Henry Farm / Oriole  \n",
       "19                 Bayview Village  \n",
       "20       York Mills / Silver Hills  \n",
       "21        Willowdale / Newtonbrook  "
      ]
     },
     "execution_count": 16,
     "metadata": {},
     "output_type": "execute_result"
    }
   ],
   "source": [
    "df_york = df_new.loc[df_new['Borough']=='North York',:]\n",
    "df_york.head()"
   ]
  },
  {
   "cell_type": "markdown",
   "metadata": {},
   "source": [
    "I get the coordination of Toronto from Google instead of using geocoder that we did in the lab. It seems more easy."
   ]
  },
  {
   "cell_type": "code",
   "execution_count": 17,
   "metadata": {},
   "outputs": [
    {
     "name": "stdout",
     "output_type": "stream",
     "text": [
      "The geograpical coordinate of Toronto are 43.6529, -79.3849.\n"
     ]
    }
   ],
   "source": [
    "latitude = 43.6529\n",
    "longitude = -79.3849\n",
    "print('The geograpical coordinate of Toronto are {}, {}.'.format(latitude, longitude))"
   ]
  },
  {
   "cell_type": "markdown",
   "metadata": {},
   "source": [
    "Now, let's create map of Toronto using our coordination values and put the neighborhood marks on the map.\n",
    "##### Maps display the city of Toronto, but marker only points the neighborhood of North York."
   ]
  },
  {
   "cell_type": "code",
   "execution_count": 117,
   "metadata": {},
   "outputs": [
    {
     "data": {
      "text/html": [
       "<div style=\"width:100%;\"><div style=\"position:relative;width:100%;height:0;padding-bottom:60%;\"><iframe src=\"about:blank\" style=\"position:absolute;width:100%;height:100%;left:0;top:0;border:none !important;\" data-html=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 onload=\"this.contentDocument.open();this.contentDocument.write(atob(this.getAttribute('data-html')));this.contentDocument.close();\" allowfullscreen webkitallowfullscreen mozallowfullscreen></iframe></div></div>"
      ],
      "text/plain": [
       "<folium.folium.Map at 0x12c82dd50>"
      ]
     },
     "execution_count": 117,
     "metadata": {},
     "output_type": "execute_result"
    }
   ],
   "source": [
    "# create map of Toronto using latitude and longitude values\n",
    "map_toronto = folium.Map(location=[latitude, longitude], zoom_start=10)\n",
    "\n",
    "# add markers to map\n",
    "for lat, lng, borough, neighborhood in zip(df_york['Latitude'], df_york['Longitude'], df_york['Borough'], df_york['Neighborhood']):\n",
    "    label = '{}, {}'.format(neighborhood, borough)\n",
    "    label = folium.Popup(label, parse_html=True)\n",
    "    folium.CircleMarker(\n",
    "        [lat, lng],\n",
    "        radius=5,\n",
    "        popup=label,\n",
    "        color='blue',\n",
    "        fill=True,\n",
    "        fill_color='#3186cc',\n",
    "        fill_opacity=0.7,\n",
    "        parse_html=False).add_to(map_toronto)  \n",
    "    \n",
    "map_toronto"
   ]
  },
  {
   "cell_type": "markdown",
   "metadata": {},
   "source": [
    "### Clustering the neighborhood using Kmeans"
   ]
  },
  {
   "cell_type": "code",
   "execution_count": 113,
   "metadata": {},
   "outputs": [
    {
     "data": {
      "text/plain": [
       "array([0, 0, 0, 0, 0, 0, 0, 3, 2, 2, 2, 3, 1, 3, 1, 1, 4, 2, 3, 3, 3, 1,\n",
       "       4, 4], dtype=int32)"
      ]
     },
     "execution_count": 113,
     "metadata": {},
     "output_type": "execute_result"
    }
   ],
   "source": [
    "# set number of clusters\n",
    "kclusters = 5\n",
    "\n",
    "df_york_clustering = df_york.drop(['Postal Code','Borough','Neighborhood'], 1)\n",
    "\n",
    "# run k-means clustering\n",
    "kmeans = KMeans(n_clusters=kclusters, random_state=0).fit(df_york_clustering)\n",
    "\n",
    "# check cluster labels generated for each row in the dataframe\n",
    "kmeans.labels_ "
   ]
  },
  {
   "cell_type": "code",
   "execution_count": 115,
   "metadata": {},
   "outputs": [
    {
     "data": {
      "text/html": [
       "<div>\n",
       "<style scoped>\n",
       "    .dataframe tbody tr th:only-of-type {\n",
       "        vertical-align: middle;\n",
       "    }\n",
       "\n",
       "    .dataframe tbody tr th {\n",
       "        vertical-align: top;\n",
       "    }\n",
       "\n",
       "    .dataframe thead th {\n",
       "        text-align: right;\n",
       "    }\n",
       "</style>\n",
       "<table border=\"1\" class=\"dataframe\">\n",
       "  <thead>\n",
       "    <tr style=\"text-align: right;\">\n",
       "      <th></th>\n",
       "      <th>Cluster Labels</th>\n",
       "      <th>Postal Code</th>\n",
       "      <th>Latitude</th>\n",
       "      <th>Longitude</th>\n",
       "      <th>Borough</th>\n",
       "      <th>Neighborhood</th>\n",
       "    </tr>\n",
       "  </thead>\n",
       "  <tbody>\n",
       "    <tr>\n",
       "      <th>17</th>\n",
       "      <td>0</td>\n",
       "      <td>M2H</td>\n",
       "      <td>43.803762</td>\n",
       "      <td>-79.363452</td>\n",
       "      <td>North York</td>\n",
       "      <td>Hillcrest Village</td>\n",
       "    </tr>\n",
       "    <tr>\n",
       "      <th>18</th>\n",
       "      <td>0</td>\n",
       "      <td>M2J</td>\n",
       "      <td>43.778517</td>\n",
       "      <td>-79.346556</td>\n",
       "      <td>North York</td>\n",
       "      <td>Fairview / Henry Farm / Oriole</td>\n",
       "    </tr>\n",
       "    <tr>\n",
       "      <th>19</th>\n",
       "      <td>0</td>\n",
       "      <td>M2K</td>\n",
       "      <td>43.786947</td>\n",
       "      <td>-79.385975</td>\n",
       "      <td>North York</td>\n",
       "      <td>Bayview Village</td>\n",
       "    </tr>\n",
       "    <tr>\n",
       "      <th>20</th>\n",
       "      <td>0</td>\n",
       "      <td>M2L</td>\n",
       "      <td>43.757490</td>\n",
       "      <td>-79.374714</td>\n",
       "      <td>North York</td>\n",
       "      <td>York Mills / Silver Hills</td>\n",
       "    </tr>\n",
       "    <tr>\n",
       "      <th>21</th>\n",
       "      <td>0</td>\n",
       "      <td>M2M</td>\n",
       "      <td>43.789053</td>\n",
       "      <td>-79.408493</td>\n",
       "      <td>North York</td>\n",
       "      <td>Willowdale / Newtonbrook</td>\n",
       "    </tr>\n",
       "  </tbody>\n",
       "</table>\n",
       "</div>"
      ],
      "text/plain": [
       "    Cluster Labels Postal Code   Latitude  Longitude     Borough  \\\n",
       "17               0         M2H  43.803762 -79.363452  North York   \n",
       "18               0         M2J  43.778517 -79.346556  North York   \n",
       "19               0         M2K  43.786947 -79.385975  North York   \n",
       "20               0         M2L  43.757490 -79.374714  North York   \n",
       "21               0         M2M  43.789053 -79.408493  North York   \n",
       "\n",
       "                      Neighborhood  \n",
       "17               Hillcrest Village  \n",
       "18  Fairview / Henry Farm / Oriole  \n",
       "19                 Bayview Village  \n",
       "20       York Mills / Silver Hills  \n",
       "21        Willowdale / Newtonbrook  "
      ]
     },
     "execution_count": 115,
     "metadata": {},
     "output_type": "execute_result"
    }
   ],
   "source": [
    "df_york.insert(0, 'Cluster Labels', kmeans.labels_)\n",
    "df_york.head()"
   ]
  },
  {
   "cell_type": "markdown",
   "metadata": {},
   "source": [
    "### The map might not be visible on Github"
   ]
  },
  {
   "cell_type": "code",
   "execution_count": 118,
   "metadata": {},
   "outputs": [
    {
     "data": {
      "text/html": [
       "<div style=\"width:100%;\"><div style=\"position:relative;width:100%;height:0;padding-bottom:60%;\"><iframe src=\"about:blank\" style=\"position:absolute;width:100%;height:100%;left:0;top:0;border:none !important;\" data-html=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 onload=\"this.contentDocument.open();this.contentDocument.write(atob(this.getAttribute('data-html')));this.contentDocument.close();\" allowfullscreen webkitallowfullscreen mozallowfullscreen></iframe></div></div>"
      ],
      "text/plain": [
       "<folium.folium.Map at 0x12ca0a050>"
      ]
     },
     "execution_count": 118,
     "metadata": {},
     "output_type": "execute_result"
    }
   ],
   "source": [
    "# create map\n",
    "map_clusters = folium.Map(location=[latitude, longitude], zoom_start=10)\n",
    "\n",
    "# set color scheme for the clusters\n",
    "x = np.arange(kclusters)\n",
    "ys = [i + x + (i*x)**2 for i in range(kclusters)]\n",
    "colors_array = cm.rainbow(np.linspace(0, 1, len(ys)))\n",
    "rainbow = [colors.rgb2hex(i) for i in colors_array]\n",
    "\n",
    "# add markers to the map\n",
    "markers_colors = []\n",
    "for lat, lon, poi, cluster in zip(df_york['Latitude'], df_york['Longitude'], df_york['Neighborhood'], df_york['Cluster Labels']):\n",
    "    label = folium.Popup(str(poi) + ' Cluster ' + str(cluster), parse_html=True)\n",
    "    folium.CircleMarker(\n",
    "        [lat, lon],\n",
    "        radius=5,\n",
    "        popup=label,\n",
    "        color=rainbow[cluster-1],\n",
    "        fill=True,\n",
    "        fill_color=rainbow[cluster-1],\n",
    "        fill_opacity=0.7).add_to(map_clusters)\n",
    "       \n",
    "map_clusters"
   ]
  }
 ],
 "metadata": {
  "kernelspec": {
   "display_name": "Python 3",
   "language": "python",
   "name": "python3"
  },
  "language_info": {
   "codemirror_mode": {
    "name": "ipython",
    "version": 3
   },
   "file_extension": ".py",
   "mimetype": "text/x-python",
   "name": "python",
   "nbconvert_exporter": "python",
   "pygments_lexer": "ipython3",
   "version": "3.7.7"
  }
 },
 "nbformat": 4,
 "nbformat_minor": 4
}

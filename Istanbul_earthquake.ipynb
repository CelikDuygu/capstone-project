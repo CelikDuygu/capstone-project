{
 "cells": [
  {
   "cell_type": "markdown",
   "metadata": {},
   "source": [
    "This notebook is created for exercise purposes. I used the open source data provided by the Istanbul Metropolitan Municipality (IMM). The data consists of the ID, time, latitude, longitude, depth, magnitude type, magnitude size, and event location name of each earthquake that occurred in 2019."
   ]
  },
  {
   "cell_type": "markdown",
   "metadata": {},
   "source": [
    "What you will learn from this short notebook is:\n",
    "1. how to download json files\n",
    "2. how to convert dictionary data to pandas dataframe\n",
    "3. how to use the foluim library to create a map and place markers on it."
   ]
  },
  {
   "cell_type": "markdown",
   "metadata": {},
   "source": [
    "Lastly, there are a number of datasets available on the IMM's website. If you're interested, please visit [IMM](https://data.ibb.gov.tr/en/)."
   ]
  },
  {
   "cell_type": "markdown",
   "metadata": {},
   "source": [
    "So, let's begin!      \n",
    "Download the necessary packages"
   ]
  },
  {
   "cell_type": "code",
   "execution_count": null,
   "metadata": {},
   "outputs": [],
   "source": [
    "import pandas as pd\n",
    "import xlrd\n",
    "import folium\n",
    "import requests"
   ]
  },
  {
   "cell_type": "markdown",
   "metadata": {},
   "source": [
    "Read the json file from url"
   ]
  },
  {
   "cell_type": "code",
   "execution_count": null,
   "metadata": {},
   "outputs": [],
   "source": [
    "df=requests.get(\"https://data.ibb.gov.tr/datastore/odata3.0/32904f60-8091-4dc3-b527-351dca6c1c22?$format=json\").json()\n",
    "df=df['value']"
   ]
  },
  {
   "cell_type": "markdown",
   "metadata": {},
   "source": [
    "Transform dictionary data into pandas dataframe"
   ]
  },
  {
   "cell_type": "code",
   "execution_count": null,
   "metadata": {},
   "outputs": [],
   "source": [
    "# define the dataframe columns\n",
    "column_names = ['ID', 'Time', 'Latitude', 'Longitude','Depth/km','MagType','Magnitude','EventLocationName'] \n",
    "\n",
    "# instantiate the dataframe\n",
    "earthquack = pd.DataFrame(columns=column_names)"
   ]
  },
  {
   "cell_type": "code",
   "execution_count": null,
   "metadata": {},
   "outputs": [],
   "source": [
    "# load dataframe with data\n",
    "for data in df:\n",
    "    event_id = data['#EventID'] \n",
    "    event_time = data['Time']\n",
    "    event_lat = data['Latitude']\n",
    "    event_lon = data['Longitude']\n",
    "    depth = data['Depth/km']\n",
    "    magtype = data['MagType']\n",
    "    magnitude = data['Magnitude']\n",
    "    locname = data['EventLocationName']\n",
    "    \n",
    "    earthquack = earthquack.append({'ID': event_id,\n",
    "                                    'Time': event_time,\n",
    "                                    'Latitude': event_lat,\n",
    "                                    'Longitude': event_lon,\n",
    "                                    'Depth/km': depth,\n",
    "                                    'MagType': magtype,\n",
    "                                    'Magnitude': magnitude,\n",
    "                                    'EventLocationName': locname}, ignore_index=True)"
   ]
  },
  {
   "cell_type": "markdown",
   "metadata": {},
   "source": [
    "Let's check to see if we get what we want"
   ]
  },
  {
   "cell_type": "code",
   "execution_count": null,
   "metadata": {},
   "outputs": [],
   "source": [
    "earthquack.head()"
   ]
  },
  {
   "cell_type": "markdown",
   "metadata": {},
   "source": [
    "I did a google search to find the coordinations, but there are also python libraries (e.g, _geopy_ library) that do the same thing. I just found googling more convenient for this little task."
   ]
  },
  {
   "cell_type": "code",
   "execution_count": null,
   "metadata": {},
   "outputs": [],
   "source": [
    "# Latitude and Longitude of Istanbul\n",
    "latitude=41.015137\n",
    "longitude=28.979530"
   ]
  },
  {
   "cell_type": "markdown",
   "metadata": {},
   "source": [
    "Let's write a function that returns a color according to the earthquake's depth.\n",
    "We will use the function in _CircleMarker_."
   ]
  },
  {
   "cell_type": "code",
   "execution_count": null,
   "metadata": {},
   "outputs": [],
   "source": [
    "def color_producer(rad):\n",
    "    if rad < 10:\n",
    "        return 'green'\n",
    "    elif 10 <= rad < 20:\n",
    "        return 'orange'\n",
    "    else:\n",
    "        return 'red'"
   ]
  },
  {
   "cell_type": "markdown",
   "metadata": {},
   "source": [
    "Finally, create a map of Istanbul using the values of latitude and longitude."
   ]
  },
  {
   "cell_type": "code",
   "execution_count": null,
   "metadata": {},
   "outputs": [],
   "source": [
    "map_ist = folium.Map(location=[latitude, longitude], zoom_start=6)\n",
    "\n",
    "# add markers to map\n",
    "for lat, lng, location, rad in zip(earthquack['Latitude'], earthquack['Longitude'], earthquack['EventLocationName'],earthquack['Depth/km']):\n",
    "    label = '{}'.format(location)\n",
    "    label = folium.Popup(label, parse_html=True)\n",
    "    folium.CircleMarker(\n",
    "        [lat, lng],\n",
    "        radius=rad*0.6,\n",
    "        popup=label,\n",
    "        fill=True,\n",
    "        weight=0, # border line weight\n",
    "        fill_color=color_producer(rad),\n",
    "        fill_opacity=0.7,\n",
    "        parse_html=False).add_to(map_ist)  \n",
    "    \n",
    "map_ist"
   ]
  },
  {
   "cell_type": "markdown",
   "metadata": {},
   "source": [
    "![](map.png)"
   ]
  }
 ],
 "metadata": {
  "kernelspec": {
   "display_name": "Python 3",
   "language": "python",
   "name": "python3"
  },
  "language_info": {
   "codemirror_mode": {
    "name": "ipython",
    "version": 3
   },
   "file_extension": ".py",
   "mimetype": "text/x-python",
   "name": "python",
   "nbconvert_exporter": "python",
   "pygments_lexer": "ipython3",
   "version": "3.7.7"
  }
 },
 "nbformat": 4,
 "nbformat_minor": 4
}
